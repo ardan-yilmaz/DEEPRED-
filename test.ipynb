{
 "cells": [
  {
   "cell_type": "markdown",
   "metadata": {},
   "source": [
    "### Test hyperparam search"
   ]
  },
  {
   "cell_type": "code",
   "execution_count": 1,
   "metadata": {},
   "outputs": [],
   "source": [
    "import torch\n",
    "\n",
    "from search_hyperparams import HyperparameterSearch\n",
    "from data_loader import get_data_loaders, GOAnnotationsDataset\n",
    "from utils import get_class_weights, get_num_classes"
   ]
  },
  {
   "cell_type": "code",
   "execution_count": 2,
   "metadata": {},
   "outputs": [],
   "source": [
    "# get the number of files (ending with _filtered.h) in the dataset\n",
    "device = torch.device(\"cuda:0\" if torch.cuda.is_available() else \"cpu\")\n",
    "root_dir = \"level8\"\n",
    "num_classes = get_num_classes(root_dir)\n",
    "initial_dataset = GOAnnotationsDataset(root_dir)\n",
    "class_weights = get_class_weights(initial_dataset)"
   ]
  },
  {
   "cell_type": "code",
   "execution_count": 3,
   "metadata": {},
   "outputs": [],
   "source": [
    "search = HyperparameterSearch(initial_dataset, num_classes, class_weights, num_trials=2, max_epochs=5, device='cpu')"
   ]
  },
  {
   "cell_type": "code",
   "execution_count": 4,
   "metadata": {},
   "outputs": [],
   "source": [
    "best_model, best_train_losses, best_val_losses, best_trial_params, best_model_test_loader = search.run_search()"
   ]
  },
  {
   "cell_type": "code",
   "execution_count": 5,
   "metadata": {},
   "outputs": [
    {
     "data": {
      "text/plain": [
       "[0.1919339955562637,\n",
       " 0.1107590017574174,\n",
       " 0.09990979305335454,\n",
       " 0.09692828428177606,\n",
       " 0.09482381954079583]"
      ]
     },
     "execution_count": 5,
     "metadata": {},
     "output_type": "execute_result"
    }
   ],
   "source": [
    "best_train_losses"
   ]
  },
  {
   "cell_type": "markdown",
   "metadata": {},
   "source": [
    "### Find thresholds"
   ]
  },
  {
   "cell_type": "code",
   "execution_count": 6,
   "metadata": {},
   "outputs": [],
   "source": [
    "from thresholds import ThresholdFinder\n",
    "threshold_finder = ThresholdFinder(best_model, num_classes, device)"
   ]
  },
  {
   "cell_type": "code",
   "execution_count": 7,
   "metadata": {},
   "outputs": [],
   "source": [
    "optimal_thresholds = threshold_finder.find_optimal_threshold(best_model_test_loader)"
   ]
  },
  {
   "cell_type": "code",
   "execution_count": 8,
   "metadata": {},
   "outputs": [
    {
     "data": {
      "text/plain": [
       "array([0.1 , 0.1 , 0.32, 0.1 , 0.29, 0.14, 0.11, 0.1 , 0.1 , 0.1 , 0.1 ,\n",
       "       0.13, 0.1 , 0.73, 0.11, 0.1 , 0.1 , 0.1 , 0.15, 0.1 , 0.1 , 0.12,\n",
       "       0.1 , 0.1 , 0.1 , 0.1 , 0.1 , 0.1 , 0.1 , 0.1 , 0.1 , 0.1 , 0.1 ,\n",
       "       0.1 , 0.1 , 0.1 , 0.37, 0.1 , 0.12, 0.1 , 0.21, 0.1 , 0.1 , 0.1 ,\n",
       "       0.21, 0.1 , 0.1 , 0.1 , 0.1 , 0.1 , 0.11, 0.1 , 0.1 , 0.1 , 0.11,\n",
       "       0.1 , 0.1 , 0.1 , 0.1 , 0.1 , 0.1 , 0.1 , 0.1 , 0.13, 0.17, 0.2 ,\n",
       "       0.1 , 0.1 , 0.12, 0.41, 0.21, 0.1 , 0.1 , 0.12, 0.1 , 0.1 , 0.1 ,\n",
       "       0.1 , 0.1 , 0.31, 0.11, 0.1 , 0.1 , 0.2 , 0.1 , 0.1 , 0.11, 0.1 ,\n",
       "       0.1 , 0.1 , 0.1 , 0.16, 0.1 , 0.1 , 0.13, 0.1 , 0.21, 0.12, 0.13,\n",
       "       0.1 , 0.1 , 0.1 , 0.1 , 0.1 , 0.11, 0.1 , 0.13, 0.1 , 0.14, 0.1 ,\n",
       "       0.1 , 0.1 , 0.1 , 0.11, 0.79, 0.1 , 0.1 , 0.39, 0.13, 0.1 , 0.1 ,\n",
       "       0.14, 0.1 , 0.1 , 0.1 , 0.1 , 0.1 , 0.1 , 0.1 , 0.4 , 0.13, 0.1 ,\n",
       "       0.1 , 0.34, 0.11, 0.1 , 0.1 , 0.22, 0.21, 0.1 , 0.1 , 0.1 , 0.12,\n",
       "       0.1 , 0.1 , 0.13, 0.1 , 0.1 , 0.13, 0.1 , 0.1 , 0.1 , 0.1 , 0.1 ,\n",
       "       0.1 , 0.1 , 0.1 , 0.1 , 0.2 , 0.16, 0.1 ])"
      ]
     },
     "execution_count": 8,
     "metadata": {},
     "output_type": "execute_result"
    }
   ],
   "source": [
    "optimal_thresholds"
   ]
  },
  {
   "cell_type": "markdown",
   "metadata": {},
   "source": [
    "### Eval "
   ]
  },
  {
   "cell_type": "code",
   "execution_count": 9,
   "metadata": {},
   "outputs": [],
   "source": [
    "from model_eval import ModelEvaluator\n",
    "\n",
    "evaluator = ModelEvaluator(best_model, optimal_thresholds, device=device)\n",
    "eval_metrics = evaluator.evaluate(best_model_test_loader)"
   ]
  },
  {
   "cell_type": "code",
   "execution_count": 10,
   "metadata": {},
   "outputs": [
    {
     "data": {
      "text/plain": [
       "{'accuracy': 0.0012165450121654502,\n",
       " 'precision': 0.07706173952230734,\n",
       " 'recall': 0.351129363449692,\n",
       " 'F1-score': 0.12638580931263857,\n",
       " 'MCC': 0.15190440612519024}"
      ]
     },
     "execution_count": 10,
     "metadata": {},
     "output_type": "execute_result"
    }
   ],
   "source": [
    "eval_metrics"
   ]
  },
  {
   "cell_type": "markdown",
   "metadata": {},
   "source": [
    "### Save the model & metrics"
   ]
  },
  {
   "cell_type": "code",
   "execution_count": 11,
   "metadata": {},
   "outputs": [],
   "source": [
    "from saver import ModelSaver\n",
    "save_path = \"saved_model\"\n",
    "saver = ModelSaver(save_path)"
   ]
  },
  {
   "cell_type": "code",
   "execution_count": 12,
   "metadata": {},
   "outputs": [],
   "source": [
    "# save(model, thresholds, config, eval_metrics, train_losses, val_losses)\n",
    "saver.save(best_model, optimal_thresholds, best_trial_params, eval_metrics, best_train_losses, best_val_losses)"
   ]
  },
  {
   "cell_type": "markdown",
   "metadata": {},
   "source": [
    "### Load the saved model & thresholds "
   ]
  },
  {
   "cell_type": "code",
   "execution_count": 14,
   "metadata": {},
   "outputs": [],
   "source": [
    "from loader import ModelLoader\n",
    "load_path = \"saved_model\"\n",
    "loader = ModelLoader(load_path)"
   ]
  },
  {
   "cell_type": "code",
   "execution_count": 16,
   "metadata": {},
   "outputs": [],
   "source": [
    "info = loader.load()"
   ]
  },
  {
   "cell_type": "code",
   "execution_count": 18,
   "metadata": {},
   "outputs": [
    {
     "data": {
      "text/plain": [
       "dict_keys(['model', 'thresholds', 'train_losses', 'val_losses', 'metadata'])"
      ]
     },
     "execution_count": 18,
     "metadata": {},
     "output_type": "execute_result"
    }
   ],
   "source": [
    "info.keys()"
   ]
  },
  {
   "cell_type": "code",
   "execution_count": 27,
   "metadata": {},
   "outputs": [
    {
     "data": {
      "text/plain": [
       "MLPClassifier(\n",
       "  (layers): ModuleList(\n",
       "    (0): Linear(in_features=512, out_features=2576, bias=True)\n",
       "    (1): BatchNorm1d(2576, eps=1e-05, momentum=0.1, affine=True, track_running_stats=True)\n",
       "    (2): ReLU()\n",
       "    (3): Dropout(p=0.4571852064190821, inplace=False)\n",
       "    (4): Linear(in_features=2576, out_features=1288, bias=True)\n",
       "    (5): BatchNorm1d(1288, eps=1e-05, momentum=0.1, affine=True, track_running_stats=True)\n",
       "    (6): ReLU()\n",
       "    (7): Dropout(p=0.4571852064190821, inplace=False)\n",
       "    (8): Linear(in_features=1288, out_features=644, bias=True)\n",
       "    (9): BatchNorm1d(644, eps=1e-05, momentum=0.1, affine=True, track_running_stats=True)\n",
       "    (10): ReLU()\n",
       "    (11): Dropout(p=0.4571852064190821, inplace=False)\n",
       "    (12): Linear(in_features=644, out_features=322, bias=True)\n",
       "    (13): BatchNorm1d(322, eps=1e-05, momentum=0.1, affine=True, track_running_stats=True)\n",
       "    (14): ReLU()\n",
       "    (15): Dropout(p=0.4571852064190821, inplace=False)\n",
       "  )\n",
       "  (out): Linear(in_features=322, out_features=161, bias=True)\n",
       ")"
      ]
     },
     "execution_count": 27,
     "metadata": {},
     "output_type": "execute_result"
    }
   ],
   "source": [
    "model"
   ]
  },
  {
   "cell_type": "code",
   "execution_count": 23,
   "metadata": {},
   "outputs": [],
   "source": [
    "model = info['model']\n",
    "thresholds = info['thresholds']\n",
    "val_losses = info['val_losses']\n",
    "metadata = info['metadata'] "
   ]
  }
 ],
 "metadata": {
  "kernelspec": {
   "display_name": "venv_DL",
   "language": "python",
   "name": "python3"
  },
  "language_info": {
   "codemirror_mode": {
    "name": "ipython",
    "version": 3
   },
   "file_extension": ".py",
   "mimetype": "text/x-python",
   "name": "python",
   "nbconvert_exporter": "python",
   "pygments_lexer": "ipython3",
   "version": "3.11.4"
  }
 },
 "nbformat": 4,
 "nbformat_minor": 2
}
